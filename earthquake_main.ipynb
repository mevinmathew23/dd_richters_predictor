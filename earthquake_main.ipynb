{
 "cells": [
  {
   "cell_type": "markdown",
   "metadata": {},
   "source": [
    "# Richter's Predictor: Modeling Earthquake Damage\n",
    "## MMAI 869 - Team College\n",
    "\n",
    "URL: https://www.drivendata.org/competitions/57/nepal-earthquake/"
   ]
  },
  {
   "cell_type": "code",
   "execution_count": null,
   "metadata": {},
   "outputs": [],
   "source": []
  },
  {
   "cell_type": "markdown",
   "metadata": {},
   "source": [
    "Hi Team.  Let's use this notebook to record our work for the ML challenge.\n",
    "\n",
    "Please make a copy of this notebook and try building your models.  Once you have completed, please copy your code and post it as a section (one # in markdown) in this notebook.\n",
    "\n",
    "Rememmber to append the name of your model the list **models** and the predicted target of the test data in the dataframe **benchmark**.\n",
    "\n",
    "The last section of this notebook will show the score of the models and we can review each other's attempt and improve our models.\n",
    "\n",
    "I have created 2 sample models for your reference.\n",
    "\n",
    "You may condense some sections for easy viewing."
   ]
  },
  {
   "cell_type": "markdown",
   "metadata": {},
   "source": [
    "### Time line\n",
    "Nov 15: Taught on Classifiers  \n",
    "Nov 21: Taught on Ensembles (Boostings)    \n",
    "Nov 29: Taught on Feature Engineering and Hyperparameter tuning  \n",
    "Nov 30 - Dec 06: generate model on you own or small groups  \n",
    "Dec 07: Submit ideas on different parts of the presentations (Point forms are okay)  \n",
    "Dec 08 - Dec 13: Another iterations for modeling  \n",
    "Dec 14: Decide on final model and provide another round of ideas on different parts of presentation  \n",
    "Dec 16: Kenny provide the ppt / notebook (80%) for Jing to review  \n",
    "Dec 17: (Team Presentation for Agile Project Management)  \n",
    "Dec 18: Jing finalise the presentation (95%)  \n",
    "Dec 20 - Presenation  \n"
   ]
  },
  {
   "cell_type": "markdown",
   "metadata": {},
   "source": [
    "# Preparation"
   ]
  },
  {
   "cell_type": "markdown",
   "metadata": {},
   "source": [
    "### Import Library"
   ]
  },
  {
   "cell_type": "code",
   "execution_count": 33,
   "metadata": {},
   "outputs": [],
   "source": [
    "import pandas as pd\n",
    "import numpy as np\n",
    "from sklearn.model_selection import train_test_split\n",
    "from sklearn.metrics import f1_score\n",
    "import matplotlib as mpl\n",
    "import matplotlib.pyplot as plt\n",
    "import seaborn as sns\n",
    "\n",
    "from sklearn.preprocessing import OneHotEncoder\n",
    "from sklearn.compose import ColumnTransformer\n",
    "from sklearn.pipeline import Pipeline\n",
    "from sklearn.model_selection import cross_val_score\n",
    "\n",
    "from sklearn.linear_model import LogisticRegression\n",
    "from sklearn import metrics\n",
    "from sklearn.model_selection import GridSearchCV\n",
    "\n",
    "# from sklearn import model_selection\n",
    "from sklearn.tree import DecisionTreeClassifier\n",
    "from sklearn.ensemble import RandomForestClassifier, AdaBoostClassifier\n",
    "from sklearn.naive_bayes import GaussianNB\n",
    "from sklearn.discriminant_analysis import QuadraticDiscriminantAnalysis, LinearDiscriminantAnalysis\n",
    "from sklearn.svm import SVC\n",
    "from sklearn.gaussian_process import GaussianProcessClassifier\n",
    "from sklearn.gaussian_process.kernels import RBF\n",
    "from sklearn.neighbors import KNeighborsClassifier"
   ]
  },
  {
   "cell_type": "markdown",
   "metadata": {},
   "source": [
    "### Import Data files"
   ]
  },
  {
   "cell_type": "code",
   "execution_count": 34,
   "metadata": {},
   "outputs": [],
   "source": [
    "train_values = pd.read_csv(\"train_values.csv\")\n",
    "train_values.set_index('building_id',inplace=True)\n",
    "train_labels = pd.read_csv(\"train_labels.csv\")\n",
    "train_labels.set_index('building_id',inplace=True)\n",
    "test_values = pd.read_csv(\"test_values.csv\")\n",
    "test_values.set_index('building_id',inplace=True)\n",
    "\n",
    "train = train_values.join(train_labels)\n"
   ]
  },
  {
   "cell_type": "code",
   "execution_count": 35,
   "metadata": {},
   "outputs": [
    {
     "data": {
      "text/html": [
       "<div>\n",
       "<style scoped>\n",
       "    .dataframe tbody tr th:only-of-type {\n",
       "        vertical-align: middle;\n",
       "    }\n",
       "\n",
       "    .dataframe tbody tr th {\n",
       "        vertical-align: top;\n",
       "    }\n",
       "\n",
       "    .dataframe thead th {\n",
       "        text-align: right;\n",
       "    }\n",
       "</style>\n",
       "<table border=\"1\" class=\"dataframe\">\n",
       "  <thead>\n",
       "    <tr style=\"text-align: right;\">\n",
       "      <th></th>\n",
       "      <th>geo_level_1_id</th>\n",
       "      <th>geo_level_2_id</th>\n",
       "      <th>geo_level_3_id</th>\n",
       "      <th>count_floors_pre_eq</th>\n",
       "      <th>age</th>\n",
       "      <th>area_percentage</th>\n",
       "      <th>height_percentage</th>\n",
       "      <th>land_surface_condition</th>\n",
       "      <th>foundation_type</th>\n",
       "      <th>roof_type</th>\n",
       "      <th>...</th>\n",
       "      <th>has_secondary_use_hotel</th>\n",
       "      <th>has_secondary_use_rental</th>\n",
       "      <th>has_secondary_use_institution</th>\n",
       "      <th>has_secondary_use_school</th>\n",
       "      <th>has_secondary_use_industry</th>\n",
       "      <th>has_secondary_use_health_post</th>\n",
       "      <th>has_secondary_use_gov_office</th>\n",
       "      <th>has_secondary_use_use_police</th>\n",
       "      <th>has_secondary_use_other</th>\n",
       "      <th>damage_grade</th>\n",
       "    </tr>\n",
       "    <tr>\n",
       "      <th>building_id</th>\n",
       "      <th></th>\n",
       "      <th></th>\n",
       "      <th></th>\n",
       "      <th></th>\n",
       "      <th></th>\n",
       "      <th></th>\n",
       "      <th></th>\n",
       "      <th></th>\n",
       "      <th></th>\n",
       "      <th></th>\n",
       "      <th></th>\n",
       "      <th></th>\n",
       "      <th></th>\n",
       "      <th></th>\n",
       "      <th></th>\n",
       "      <th></th>\n",
       "      <th></th>\n",
       "      <th></th>\n",
       "      <th></th>\n",
       "      <th></th>\n",
       "      <th></th>\n",
       "    </tr>\n",
       "  </thead>\n",
       "  <tbody>\n",
       "    <tr>\n",
       "      <th>802906</th>\n",
       "      <td>6</td>\n",
       "      <td>487</td>\n",
       "      <td>12198</td>\n",
       "      <td>2</td>\n",
       "      <td>30</td>\n",
       "      <td>6</td>\n",
       "      <td>5</td>\n",
       "      <td>t</td>\n",
       "      <td>r</td>\n",
       "      <td>n</td>\n",
       "      <td>...</td>\n",
       "      <td>0</td>\n",
       "      <td>0</td>\n",
       "      <td>0</td>\n",
       "      <td>0</td>\n",
       "      <td>0</td>\n",
       "      <td>0</td>\n",
       "      <td>0</td>\n",
       "      <td>0</td>\n",
       "      <td>0</td>\n",
       "      <td>3</td>\n",
       "    </tr>\n",
       "    <tr>\n",
       "      <th>28830</th>\n",
       "      <td>8</td>\n",
       "      <td>900</td>\n",
       "      <td>2812</td>\n",
       "      <td>2</td>\n",
       "      <td>10</td>\n",
       "      <td>8</td>\n",
       "      <td>7</td>\n",
       "      <td>o</td>\n",
       "      <td>r</td>\n",
       "      <td>n</td>\n",
       "      <td>...</td>\n",
       "      <td>0</td>\n",
       "      <td>0</td>\n",
       "      <td>0</td>\n",
       "      <td>0</td>\n",
       "      <td>0</td>\n",
       "      <td>0</td>\n",
       "      <td>0</td>\n",
       "      <td>0</td>\n",
       "      <td>0</td>\n",
       "      <td>2</td>\n",
       "    </tr>\n",
       "    <tr>\n",
       "      <th>94947</th>\n",
       "      <td>21</td>\n",
       "      <td>363</td>\n",
       "      <td>8973</td>\n",
       "      <td>2</td>\n",
       "      <td>10</td>\n",
       "      <td>5</td>\n",
       "      <td>5</td>\n",
       "      <td>t</td>\n",
       "      <td>r</td>\n",
       "      <td>n</td>\n",
       "      <td>...</td>\n",
       "      <td>0</td>\n",
       "      <td>0</td>\n",
       "      <td>0</td>\n",
       "      <td>0</td>\n",
       "      <td>0</td>\n",
       "      <td>0</td>\n",
       "      <td>0</td>\n",
       "      <td>0</td>\n",
       "      <td>0</td>\n",
       "      <td>3</td>\n",
       "    </tr>\n",
       "    <tr>\n",
       "      <th>590882</th>\n",
       "      <td>22</td>\n",
       "      <td>418</td>\n",
       "      <td>10694</td>\n",
       "      <td>2</td>\n",
       "      <td>10</td>\n",
       "      <td>6</td>\n",
       "      <td>5</td>\n",
       "      <td>t</td>\n",
       "      <td>r</td>\n",
       "      <td>n</td>\n",
       "      <td>...</td>\n",
       "      <td>0</td>\n",
       "      <td>0</td>\n",
       "      <td>0</td>\n",
       "      <td>0</td>\n",
       "      <td>0</td>\n",
       "      <td>0</td>\n",
       "      <td>0</td>\n",
       "      <td>0</td>\n",
       "      <td>0</td>\n",
       "      <td>2</td>\n",
       "    </tr>\n",
       "    <tr>\n",
       "      <th>201944</th>\n",
       "      <td>11</td>\n",
       "      <td>131</td>\n",
       "      <td>1488</td>\n",
       "      <td>3</td>\n",
       "      <td>30</td>\n",
       "      <td>8</td>\n",
       "      <td>9</td>\n",
       "      <td>t</td>\n",
       "      <td>r</td>\n",
       "      <td>n</td>\n",
       "      <td>...</td>\n",
       "      <td>0</td>\n",
       "      <td>0</td>\n",
       "      <td>0</td>\n",
       "      <td>0</td>\n",
       "      <td>0</td>\n",
       "      <td>0</td>\n",
       "      <td>0</td>\n",
       "      <td>0</td>\n",
       "      <td>0</td>\n",
       "      <td>3</td>\n",
       "    </tr>\n",
       "  </tbody>\n",
       "</table>\n",
       "<p>5 rows × 39 columns</p>\n",
       "</div>"
      ],
      "text/plain": [
       "             geo_level_1_id  geo_level_2_id  geo_level_3_id  \\\n",
       "building_id                                                   \n",
       "802906                    6             487           12198   \n",
       "28830                     8             900            2812   \n",
       "94947                    21             363            8973   \n",
       "590882                   22             418           10694   \n",
       "201944                   11             131            1488   \n",
       "\n",
       "             count_floors_pre_eq  age  area_percentage  height_percentage  \\\n",
       "building_id                                                                 \n",
       "802906                         2   30                6                  5   \n",
       "28830                          2   10                8                  7   \n",
       "94947                          2   10                5                  5   \n",
       "590882                         2   10                6                  5   \n",
       "201944                         3   30                8                  9   \n",
       "\n",
       "            land_surface_condition foundation_type roof_type  ...  \\\n",
       "building_id                                                   ...   \n",
       "802906                           t               r         n  ...   \n",
       "28830                            o               r         n  ...   \n",
       "94947                            t               r         n  ...   \n",
       "590882                           t               r         n  ...   \n",
       "201944                           t               r         n  ...   \n",
       "\n",
       "            has_secondary_use_hotel has_secondary_use_rental  \\\n",
       "building_id                                                    \n",
       "802906                            0                        0   \n",
       "28830                             0                        0   \n",
       "94947                             0                        0   \n",
       "590882                            0                        0   \n",
       "201944                            0                        0   \n",
       "\n",
       "            has_secondary_use_institution has_secondary_use_school  \\\n",
       "building_id                                                          \n",
       "802906                                  0                        0   \n",
       "28830                                   0                        0   \n",
       "94947                                   0                        0   \n",
       "590882                                  0                        0   \n",
       "201944                                  0                        0   \n",
       "\n",
       "             has_secondary_use_industry  has_secondary_use_health_post  \\\n",
       "building_id                                                              \n",
       "802906                                0                              0   \n",
       "28830                                 0                              0   \n",
       "94947                                 0                              0   \n",
       "590882                                0                              0   \n",
       "201944                                0                              0   \n",
       "\n",
       "             has_secondary_use_gov_office  has_secondary_use_use_police  \\\n",
       "building_id                                                               \n",
       "802906                                  0                             0   \n",
       "28830                                   0                             0   \n",
       "94947                                   0                             0   \n",
       "590882                                  0                             0   \n",
       "201944                                  0                             0   \n",
       "\n",
       "             has_secondary_use_other  damage_grade  \n",
       "building_id                                         \n",
       "802906                             0             3  \n",
       "28830                              0             2  \n",
       "94947                              0             3  \n",
       "590882                             0             2  \n",
       "201944                             0             3  \n",
       "\n",
       "[5 rows x 39 columns]"
      ]
     },
     "execution_count": 35,
     "metadata": {},
     "output_type": "execute_result"
    }
   ],
   "source": [
    "train.head()"
   ]
  },
  {
   "cell_type": "code",
   "execution_count": 36,
   "metadata": {},
   "outputs": [],
   "source": [
    "all_columns = list(train.columns)\n",
    "x_columns = list(train.columns[:-1])  \n",
    "\n",
    "pdx = train[x_columns]\n",
    "pdy = train['damage_grade']\n",
    "\n",
    "# Let's use 869 as the common random seed\n",
    "# split data into 70/30 training to testing\n",
    "x_train,x_test,y_train,y_test = train_test_split(pdx,pdy,train_size = 0.7,random_state=869)\n",
    "\n",
    "models = ['Perfect'] # Keep a dictionary of models we tried\n",
    "benchmark = pd.DataFrame(y_test)\n",
    "\n",
    "benchmark.columns = models # Keep a copy of the predicted y of the test data fro benchmarking\n",
    "\n",
    "# x_columns has all names of all features\n",
    "# x_train are values of the features for training data\n",
    "# y_train are targets for training data\n",
    "# x_test are values of the features for testing data\n",
    "# y_test are targets for the testing data\n",
    "\n",
    "# likely need to apply some transformation to the huge number of categorical veriable (? target encoding)\n",
    "# maybe we needed optuna for the tuning of hyperparameters\n",
    "\n",
    "# the scoring method for evaluation\n",
    "scoring = \"f1_micro\"\n"
   ]
  },
  {
   "cell_type": "markdown",
   "metadata": {},
   "source": [
    "### Help functions for model training and result recordning  - by Jing"
   ]
  },
  {
   "cell_type": "code",
   "execution_count": 37,
   "metadata": {},
   "outputs": [],
   "source": [
    "# define a function to do the steps:\n",
    "# can use some global variables, do not need define everything\n",
    "def train_model( X, y, model, model_name, param_grid, scoring, data_prep, cv=5 ):\n",
    "    # define pipeline\n",
    "    pipeline = Pipeline(steps=[(\"data_prep\", data_prep),\n",
    "                              (\"model\", model)])\n",
    "    \n",
    "    # use gridSearchCV to get the best model\n",
    "    \n",
    "    gs = GridSearchCV(pipeline,\n",
    "                    param_grid=param_grid,\n",
    "                    scoring=scoring,\n",
    "                    cv=cv)\n",
    "    \n",
    "    #fit model\n",
    "    gs.fit(X, y)\n",
    "        \n",
    "    #print the best model score\n",
    "    print(\"{} training data average f1-score: {}\".format(model_name, gs.score(X, y)))\n",
    "    \n",
    "    #return the trained model in case needed\n",
    "    return gs  \n"
   ]
  },
  {
   "cell_type": "code",
   "execution_count": 38,
   "metadata": {},
   "outputs": [],
   "source": [
    "# define the function to predict data and put into benchmark\n",
    "\n",
    "def pred_target(model_name, model, X):\n",
    "    y_pred = model.predict(X)\n",
    "    # Register model and save result for comparison\n",
    "    models.append(model_name)\n",
    "    benchmark[model_name] = y_pred\n",
    "    return "
   ]
  },
  {
   "cell_type": "code",
   "execution_count": null,
   "metadata": {},
   "outputs": [],
   "source": []
  },
  {
   "cell_type": "markdown",
   "metadata": {},
   "source": [
    "# Null Model that Assigns 2 as the Prediction - Kenny, Nov 11"
   ]
  },
  {
   "cell_type": "markdown",
   "metadata": {},
   "source": [
    "### Feature Engineering"
   ]
  },
  {
   "cell_type": "code",
   "execution_count": 39,
   "metadata": {},
   "outputs": [],
   "source": [
    "# Code for feature engineering"
   ]
  },
  {
   "cell_type": "markdown",
   "metadata": {},
   "source": [
    "### Modelling"
   ]
  },
  {
   "cell_type": "code",
   "execution_count": 40,
   "metadata": {},
   "outputs": [],
   "source": [
    "# Code for modelling and tuning with cross-validation\n",
    "# scoring='f1_micro' can be used in cross_val_score function for tuning with respect to f1 micro average\n",
    "\n",
    "# Please append the predicted y of the test data into the dataframne benchmark and name of the model into models\n",
    "models.append('All 2')\n",
    "benchmark['All 2']=2"
   ]
  },
  {
   "cell_type": "markdown",
   "metadata": {},
   "source": [
    "# Plain Logistic Regression, ignore geo_id - Kenny, Nov 11"
   ]
  },
  {
   "cell_type": "markdown",
   "metadata": {},
   "source": [
    "### Faeture Engineering - Plain Logictic Regression"
   ]
  },
  {
   "cell_type": "code",
   "execution_count": 41,
   "metadata": {},
   "outputs": [],
   "source": [
    "x_train_dummies = pd.get_dummies(x_train).iloc[:,3:]  # transform categorical to dummy and ignore geo_id\n",
    "x_test_dummies = pd.get_dummies(x_test).iloc[:,3:]  # transform categorical to dummy and ignore geo_id\n"
   ]
  },
  {
   "cell_type": "markdown",
   "metadata": {},
   "source": [
    "### Modelling - Plain Logistic Regression without geo_id"
   ]
  },
  {
   "cell_type": "code",
   "execution_count": 42,
   "metadata": {},
   "outputs": [],
   "source": [
    "# import library\n",
    "from sklearn.linear_model import LogisticRegression\n",
    "\n",
    "# fit the model\n",
    "model_LR = LogisticRegression(max_iter=100000)\n",
    "model_LR.fit(x_train_dummies, y_train)\n",
    "\n",
    "# predict on test set\n",
    "y_pred = model_LR.predict(x_test_dummies)\n",
    "\n",
    "# Register model and save result for comparison\n",
    "models.append('Plain LR - no geo_id')\n",
    "benchmark['Plain LR - no geo_id'] = y_pred"
   ]
  },
  {
   "cell_type": "markdown",
   "metadata": {},
   "source": []
  },
  {
   "cell_type": "markdown",
   "metadata": {},
   "source": [
    "# KNN, geo_id as continuous- Jing, Nov 12"
   ]
  },
  {
   "cell_type": "code",
   "execution_count": 43,
   "metadata": {},
   "outputs": [],
   "source": [
    "# get category columns\n",
    "cat_columns = train.select_dtypes(include=['object']).columns"
   ]
  },
  {
   "cell_type": "code",
   "execution_count": 44,
   "metadata": {},
   "outputs": [
    {
     "data": {
      "text/html": [
       "<style>#sk-container-id-2 {color: black;background-color: white;}#sk-container-id-2 pre{padding: 0;}#sk-container-id-2 div.sk-toggleable {background-color: white;}#sk-container-id-2 label.sk-toggleable__label {cursor: pointer;display: block;width: 100%;margin-bottom: 0;padding: 0.3em;box-sizing: border-box;text-align: center;}#sk-container-id-2 label.sk-toggleable__label-arrow:before {content: \"▸\";float: left;margin-right: 0.25em;color: #696969;}#sk-container-id-2 label.sk-toggleable__label-arrow:hover:before {color: black;}#sk-container-id-2 div.sk-estimator:hover label.sk-toggleable__label-arrow:before {color: black;}#sk-container-id-2 div.sk-toggleable__content {max-height: 0;max-width: 0;overflow: hidden;text-align: left;background-color: #f0f8ff;}#sk-container-id-2 div.sk-toggleable__content pre {margin: 0.2em;color: black;border-radius: 0.25em;background-color: #f0f8ff;}#sk-container-id-2 input.sk-toggleable__control:checked~div.sk-toggleable__content {max-height: 200px;max-width: 100%;overflow: auto;}#sk-container-id-2 input.sk-toggleable__control:checked~label.sk-toggleable__label-arrow:before {content: \"▾\";}#sk-container-id-2 div.sk-estimator input.sk-toggleable__control:checked~label.sk-toggleable__label {background-color: #d4ebff;}#sk-container-id-2 div.sk-label input.sk-toggleable__control:checked~label.sk-toggleable__label {background-color: #d4ebff;}#sk-container-id-2 input.sk-hidden--visually {border: 0;clip: rect(1px 1px 1px 1px);clip: rect(1px, 1px, 1px, 1px);height: 1px;margin: -1px;overflow: hidden;padding: 0;position: absolute;width: 1px;}#sk-container-id-2 div.sk-estimator {font-family: monospace;background-color: #f0f8ff;border: 1px dotted black;border-radius: 0.25em;box-sizing: border-box;margin-bottom: 0.5em;}#sk-container-id-2 div.sk-estimator:hover {background-color: #d4ebff;}#sk-container-id-2 div.sk-parallel-item::after {content: \"\";width: 100%;border-bottom: 1px solid gray;flex-grow: 1;}#sk-container-id-2 div.sk-label:hover label.sk-toggleable__label {background-color: #d4ebff;}#sk-container-id-2 div.sk-serial::before {content: \"\";position: absolute;border-left: 1px solid gray;box-sizing: border-box;top: 0;bottom: 0;left: 50%;z-index: 0;}#sk-container-id-2 div.sk-serial {display: flex;flex-direction: column;align-items: center;background-color: white;padding-right: 0.2em;padding-left: 0.2em;position: relative;}#sk-container-id-2 div.sk-item {position: relative;z-index: 1;}#sk-container-id-2 div.sk-parallel {display: flex;align-items: stretch;justify-content: center;background-color: white;position: relative;}#sk-container-id-2 div.sk-item::before, #sk-container-id-2 div.sk-parallel-item::before {content: \"\";position: absolute;border-left: 1px solid gray;box-sizing: border-box;top: 0;bottom: 0;left: 50%;z-index: -1;}#sk-container-id-2 div.sk-parallel-item {display: flex;flex-direction: column;z-index: 1;position: relative;background-color: white;}#sk-container-id-2 div.sk-parallel-item:first-child::after {align-self: flex-end;width: 50%;}#sk-container-id-2 div.sk-parallel-item:last-child::after {align-self: flex-start;width: 50%;}#sk-container-id-2 div.sk-parallel-item:only-child::after {width: 0;}#sk-container-id-2 div.sk-dashed-wrapped {border: 1px dashed gray;margin: 0 0.4em 0.5em 0.4em;box-sizing: border-box;padding-bottom: 0.4em;background-color: white;}#sk-container-id-2 div.sk-label label {font-family: monospace;font-weight: bold;display: inline-block;line-height: 1.2em;}#sk-container-id-2 div.sk-label-container {text-align: center;}#sk-container-id-2 div.sk-container {/* jupyter's `normalize.less` sets `[hidden] { display: none; }` but bootstrap.min.css set `[hidden] { display: none !important; }` so we also need the `!important` here to be able to override the default hidden behavior on the sphinx rendered scikit-learn.org. See: https://github.com/scikit-learn/scikit-learn/issues/21755 */display: inline-block !important;position: relative;}#sk-container-id-2 div.sk-text-repr-fallback {display: none;}</style><div id=\"sk-container-id-2\" class=\"sk-top-container\"><div class=\"sk-text-repr-fallback\"><pre>ColumnTransformer(remainder=&#x27;passthrough&#x27;,\n",
       "                  transformers=[(&#x27;one-hot-encoder&#x27;, OneHotEncoder(),\n",
       "                                 Index([&#x27;land_surface_condition&#x27;, &#x27;foundation_type&#x27;, &#x27;roof_type&#x27;,\n",
       "       &#x27;ground_floor_type&#x27;, &#x27;other_floor_type&#x27;, &#x27;position&#x27;,\n",
       "       &#x27;plan_configuration&#x27;, &#x27;legal_ownership_status&#x27;],\n",
       "      dtype=&#x27;object&#x27;))])</pre><b>In a Jupyter environment, please rerun this cell to show the HTML representation or trust the notebook. <br />On GitHub, the HTML representation is unable to render, please try loading this page with nbviewer.org.</b></div><div class=\"sk-container\" hidden><div class=\"sk-item sk-dashed-wrapped\"><div class=\"sk-label-container\"><div class=\"sk-label sk-toggleable\"><input class=\"sk-toggleable__control sk-hidden--visually\" id=\"sk-estimator-id-6\" type=\"checkbox\" ><label for=\"sk-estimator-id-6\" class=\"sk-toggleable__label sk-toggleable__label-arrow\">ColumnTransformer</label><div class=\"sk-toggleable__content\"><pre>ColumnTransformer(remainder=&#x27;passthrough&#x27;,\n",
       "                  transformers=[(&#x27;one-hot-encoder&#x27;, OneHotEncoder(),\n",
       "                                 Index([&#x27;land_surface_condition&#x27;, &#x27;foundation_type&#x27;, &#x27;roof_type&#x27;,\n",
       "       &#x27;ground_floor_type&#x27;, &#x27;other_floor_type&#x27;, &#x27;position&#x27;,\n",
       "       &#x27;plan_configuration&#x27;, &#x27;legal_ownership_status&#x27;],\n",
       "      dtype=&#x27;object&#x27;))])</pre></div></div></div><div class=\"sk-parallel\"><div class=\"sk-parallel-item\"><div class=\"sk-item\"><div class=\"sk-label-container\"><div class=\"sk-label sk-toggleable\"><input class=\"sk-toggleable__control sk-hidden--visually\" id=\"sk-estimator-id-7\" type=\"checkbox\" ><label for=\"sk-estimator-id-7\" class=\"sk-toggleable__label sk-toggleable__label-arrow\">one-hot-encoder</label><div class=\"sk-toggleable__content\"><pre>Index([&#x27;land_surface_condition&#x27;, &#x27;foundation_type&#x27;, &#x27;roof_type&#x27;,\n",
       "       &#x27;ground_floor_type&#x27;, &#x27;other_floor_type&#x27;, &#x27;position&#x27;,\n",
       "       &#x27;plan_configuration&#x27;, &#x27;legal_ownership_status&#x27;],\n",
       "      dtype=&#x27;object&#x27;)</pre></div></div></div><div class=\"sk-serial\"><div class=\"sk-item\"><div class=\"sk-estimator sk-toggleable\"><input class=\"sk-toggleable__control sk-hidden--visually\" id=\"sk-estimator-id-8\" type=\"checkbox\" ><label for=\"sk-estimator-id-8\" class=\"sk-toggleable__label sk-toggleable__label-arrow\">OneHotEncoder</label><div class=\"sk-toggleable__content\"><pre>OneHotEncoder()</pre></div></div></div></div></div></div><div class=\"sk-parallel-item\"><div class=\"sk-item\"><div class=\"sk-label-container\"><div class=\"sk-label sk-toggleable\"><input class=\"sk-toggleable__control sk-hidden--visually\" id=\"sk-estimator-id-9\" type=\"checkbox\" ><label for=\"sk-estimator-id-9\" class=\"sk-toggleable__label sk-toggleable__label-arrow\">remainder</label><div class=\"sk-toggleable__content\"><pre>[&#x27;geo_level_1_id&#x27;, &#x27;geo_level_2_id&#x27;, &#x27;geo_level_3_id&#x27;, &#x27;count_floors_pre_eq&#x27;, &#x27;age&#x27;, &#x27;area_percentage&#x27;, &#x27;height_percentage&#x27;, &#x27;has_superstructure_adobe_mud&#x27;, &#x27;has_superstructure_mud_mortar_stone&#x27;, &#x27;has_superstructure_stone_flag&#x27;, &#x27;has_superstructure_cement_mortar_stone&#x27;, &#x27;has_superstructure_mud_mortar_brick&#x27;, &#x27;has_superstructure_cement_mortar_brick&#x27;, &#x27;has_superstructure_timber&#x27;, &#x27;has_superstructure_bamboo&#x27;, &#x27;has_superstructure_rc_non_engineered&#x27;, &#x27;has_superstructure_rc_engineered&#x27;, &#x27;has_superstructure_other&#x27;, &#x27;count_families&#x27;, &#x27;has_secondary_use&#x27;, &#x27;has_secondary_use_agriculture&#x27;, &#x27;has_secondary_use_hotel&#x27;, &#x27;has_secondary_use_rental&#x27;, &#x27;has_secondary_use_institution&#x27;, &#x27;has_secondary_use_school&#x27;, &#x27;has_secondary_use_industry&#x27;, &#x27;has_secondary_use_health_post&#x27;, &#x27;has_secondary_use_gov_office&#x27;, &#x27;has_secondary_use_use_police&#x27;, &#x27;has_secondary_use_other&#x27;]</pre></div></div></div><div class=\"sk-serial\"><div class=\"sk-item\"><div class=\"sk-estimator sk-toggleable\"><input class=\"sk-toggleable__control sk-hidden--visually\" id=\"sk-estimator-id-10\" type=\"checkbox\" ><label for=\"sk-estimator-id-10\" class=\"sk-toggleable__label sk-toggleable__label-arrow\">passthrough</label><div class=\"sk-toggleable__content\"><pre>passthrough</pre></div></div></div></div></div></div></div></div></div></div>"
      ],
      "text/plain": [
       "ColumnTransformer(remainder='passthrough',\n",
       "                  transformers=[('one-hot-encoder', OneHotEncoder(),\n",
       "                                 Index(['land_surface_condition', 'foundation_type', 'roof_type',\n",
       "       'ground_floor_type', 'other_floor_type', 'position',\n",
       "       'plan_configuration', 'legal_ownership_status'],\n",
       "      dtype='object'))])"
      ]
     },
     "execution_count": 44,
     "metadata": {},
     "output_type": "execute_result"
    }
   ],
   "source": [
    "# don't use get_dummy, instead use oneHotEncoder, train first then the same one will use for training and finial test\n",
    "# use columnTransformer to applies transformers to columns of an array or pandas DataFrame\n",
    "\n",
    "ct = ColumnTransformer([(\"one-hot-encoder\", OneHotEncoder(), cat_columns)], remainder =\"passthrough\")\n",
    "\n",
    "# should fit the column transfer first\n",
    "ct.fit(x_train)"
   ]
  },
  {
   "cell_type": "code",
   "execution_count": 45,
   "metadata": {},
   "outputs": [],
   "source": [
    "# build separate model\n",
    "# build model for KNN\n",
    "model_name = \"KNN - geo_id as continuous\"\n",
    "model = KNeighborsClassifier()\n",
    "\n",
    "k_range = list(range(1, 10))\n",
    "params = dict(model__n_neighbors=k_range)"
   ]
  },
  {
   "cell_type": "code",
   "execution_count": 46,
   "metadata": {},
   "outputs": [
    {
     "name": "stdout",
     "output_type": "stream",
     "text": [
      "KNN - geo_id as continuous training data average f1-score: 0.7706008113145488\n"
     ]
    }
   ],
   "source": [
    "# get gs_knn\n",
    "\n",
    "gs = train_model(x_train, y_train, model, model_name, params, scoring, ct)"
   ]
  },
  {
   "cell_type": "code",
   "execution_count": 47,
   "metadata": {},
   "outputs": [],
   "source": [
    "# predict the value and put into benchmark\n",
    "\n",
    "pred_target(model_name, gs, x_test)"
   ]
  },
  {
   "cell_type": "markdown",
   "metadata": {},
   "source": [
    "# Your Modelling"
   ]
  },
  {
   "cell_type": "code",
   "execution_count": 48,
   "metadata": {},
   "outputs": [],
   "source": [
    "# x_columns has all names of all features\n",
    "# x_train are values of the features for training data\n",
    "# y_train are targets for training data\n",
    "# x_test are values of the features for testing data\n",
    "# y_test are targets for the testing data\n",
    "\n",
    "# Need to import library in your code\n",
    "# scoring='f1_micro' can be used in cross_val_score function for tuning with respect to f1 micro average\n",
    "\n",
    "# Please append the predicted y of the test data into the dataframne benchmark and name of the model into models\n",
    "\n",
    "# You may refer to the examples above"
   ]
  },
  {
   "cell_type": "markdown",
   "metadata": {},
   "source": [
    "# Performance Evaluation (Micro Averaged F1 Score) using test data"
   ]
  },
  {
   "cell_type": "code",
   "execution_count": 49,
   "metadata": {},
   "outputs": [
    {
     "name": "stdout",
     "output_type": "stream",
     "text": [
      "Perfect - Micro Average F1 =  1.0\n",
      "All 2 - Micro Average F1 =  0.567439659252248\n",
      "Plain LR - no geo_id - Micro Average F1 =  0.5860119466366508\n",
      "KNN - geo_id as continuous - Micro Average F1 =  0.7081899694299126\n"
     ]
    }
   ],
   "source": [
    "for i, model_name in enumerate(models):\n",
    "    print(model_name,\"- Micro Average F1 = \",\n",
    "            f1_score(y_test, benchmark[model_name], average='micro'))"
   ]
  },
  {
   "cell_type": "markdown",
   "metadata": {},
   "source": [
    "# --------------------\n",
    "# For Presentation (12 minutes)"
   ]
  },
  {
   "cell_type": "markdown",
   "metadata": {},
   "source": [
    "## What cleaning and preprocessing steps did you try? Which worked, which didn’t?"
   ]
  },
  {
   "cell_type": "markdown",
   "metadata": {},
   "source": [
    "### Data are not balanced - See below"
   ]
  },
  {
   "cell_type": "code",
   "execution_count": 50,
   "metadata": {},
   "outputs": [
    {
     "data": {
      "text/plain": [
       "2    148259\n",
       "3     87218\n",
       "1     25124\n",
       "Name: damage_grade, dtype: int64"
      ]
     },
     "execution_count": 50,
     "metadata": {},
     "output_type": "execute_result"
    }
   ],
   "source": [
    "# check the output to see whether balanced\n",
    "train[\"damage_grade\"].value_counts()"
   ]
  },
  {
   "cell_type": "markdown",
   "metadata": {},
   "source": [
    "2: 148259/260601 = 0.56  \n",
    "3: 87218/260601 = 0.33  \n",
    "1: 25124/260601 = 0.096 "
   ]
  },
  {
   "cell_type": "markdown",
   "metadata": {},
   "source": [
    "** Add your views here"
   ]
  },
  {
   "cell_type": "markdown",
   "metadata": {},
   "source": [
    "## What feature engineering and selection steps did you try? Which worked, which didn’t?"
   ]
  },
  {
   "cell_type": "markdown",
   "metadata": {},
   "source": [
    "** Add your views here"
   ]
  },
  {
   "cell_type": "markdown",
   "metadata": {},
   "source": [
    "## Which ML algorithms did you try? How well did they work?"
   ]
  },
  {
   "cell_type": "markdown",
   "metadata": {},
   "source": [
    "** Add your views here"
   ]
  },
  {
   "cell_type": "markdown",
   "metadata": {},
   "source": [
    "## What hyperparameter tuning procedure did you try? What range of values did you consider? How much did they help performance?"
   ]
  },
  {
   "cell_type": "markdown",
   "metadata": {},
   "source": [
    "** Add your views here"
   ]
  },
  {
   "cell_type": "markdown",
   "metadata": {},
   "source": [
    "## Describe the drivers (i.e., feature importances) of your model’s performance. What did your model “learn?” / Describe your best model / confusion matrices and the associated metrics / "
   ]
  },
  {
   "cell_type": "markdown",
   "metadata": {},
   "source": [
    "** Add your views here"
   ]
  },
  {
   "cell_type": "markdown",
   "metadata": {},
   "source": [
    "## What's next steps?"
   ]
  },
  {
   "cell_type": "markdown",
   "metadata": {},
   "source": [
    "** Add your views here"
   ]
  },
  {
   "cell_type": "markdown",
   "metadata": {},
   "source": [
    "## Lessons learned?"
   ]
  },
  {
   "cell_type": "markdown",
   "metadata": {},
   "source": [
    "** Add your views here"
   ]
  },
  {
   "cell_type": "markdown",
   "metadata": {},
   "source": []
  }
 ],
 "metadata": {
  "kernelspec": {
   "display_name": "Python 3.10.8 64-bit",
   "language": "python",
   "name": "python3"
  },
  "language_info": {
   "codemirror_mode": {
    "name": "ipython",
    "version": 3
   },
   "file_extension": ".py",
   "mimetype": "text/x-python",
   "name": "python",
   "nbconvert_exporter": "python",
   "pygments_lexer": "ipython3",
   "version": "3.10.8"
  },
  "orig_nbformat": 4,
  "vscode": {
   "interpreter": {
    "hash": "b0fa6594d8f4cbf19f97940f81e996739fb7646882a419484c72d19e05852a7e"
   }
  }
 },
 "nbformat": 4,
 "nbformat_minor": 2
}
